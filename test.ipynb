{
 "cells": [
  {
   "cell_type": "code",
   "id": "initial_id",
   "metadata": {
    "collapsed": true,
    "ExecuteTime": {
     "end_time": "2024-06-30T06:43:06.413767Z",
     "start_time": "2024-06-30T06:43:06.394233Z"
    }
   },
   "source": [
    "a = \"jupyter教程:\"\n",
    "b = \"这是一个代码单元化运行测试\"\n",
    "a+b"
   ],
   "outputs": [
    {
     "data": {
      "text/plain": [
       "'jupyter教程:这是一个代码单元化运行测试'"
      ]
     },
     "execution_count": 6,
     "metadata": {},
     "output_type": "execute_result"
    }
   ],
   "execution_count": 6
  },
  {
   "metadata": {},
   "cell_type": "markdown",
   "source": "",
   "id": "6dff739e3cdb2f9f"
  },
  {
   "metadata": {},
   "cell_type": "markdown",
   "source": "",
   "id": "897f927a1ac135b3"
  }
 ],
 "metadata": {
  "kernelspec": {
   "display_name": "Python 3",
   "language": "python",
   "name": "python3"
  },
  "language_info": {
   "codemirror_mode": {
    "name": "ipython",
    "version": 2
   },
   "file_extension": ".py",
   "mimetype": "text/x-python",
   "name": "python",
   "nbconvert_exporter": "python",
   "pygments_lexer": "ipython2",
   "version": "2.7.6"
  }
 },
 "nbformat": 4,
 "nbformat_minor": 5
}
